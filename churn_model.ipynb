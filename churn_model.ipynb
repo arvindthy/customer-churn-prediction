{
 "cells": [
  {
   "cell_type": "markdown",
   "id": "c100e3fa",
   "metadata": {},
   "source": [
    "# 📉 Customer Churn Prediction\n",
    "This notebook demonstrates how to use logistic regression to predict customer churn."
   ]
  },
  {
   "cell_type": "code",
   "execution_count": null,
   "id": "9d6ce201",
   "metadata": {},
   "outputs": [],
   "source": [
    "import pandas as pd\n",
    "from sklearn.model_selection import train_test_split\n",
    "from sklearn.linear_model import LogisticRegression\n",
    "from sklearn.metrics import classification_report, confusion_matrix, accuracy_score"
   ]
  },
  {
   "cell_type": "code",
   "execution_count": null,
   "id": "e83d00ef",
   "metadata": {},
   "outputs": [],
   "source": [
    "# Load dataset\n",
    "df = pd.read_csv('Telco-Customer-Churn.csv')\n",
    "df = df.dropna()\n",
    "df['Churn'] = df['Churn'].map({'Yes': 1, 'No': 0})\n",
    "df.head()"
   ]
  },
  {
   "cell_type": "code",
   "execution_count": null,
   "id": "410598c9",
   "metadata": {},
   "outputs": [],
   "source": [
    "# Prepare features and target\n",
    "X = pd.get_dummies(df.drop('Churn', axis=1), drop_first=True)\n",
    "y = df['Churn']\n",
    "X_train, X_test, y_train, y_test = train_test_split(X, y, test_size=0.2, random_state=42)"
   ]
  },
  {
   "cell_type": "code",
   "execution_count": null,
   "id": "50b4aa82",
   "metadata": {},
   "outputs": [],
   "source": [
    "# Train logistic regression model\n",
    "model = LogisticRegression(max_iter=1000)\n",
    "model.fit(X_train, y_train)"
   ]
  },
  {
   "cell_type": "code",
   "execution_count": null,
   "id": "297a5c55",
   "metadata": {},
   "outputs": [],
   "source": [
    "# Evaluate model\n",
    "y_pred = model.predict(X_test)\n",
    "print(\"Accuracy:\", accuracy_score(y_test, y_pred))\n",
    "print(confusion_matrix(y_test, y_pred))\n",
    "print(classification_report(y_test, y_pred))"
   ]
  },
  {
   "cell_type": "markdown",
   "id": "8319ce83",
   "metadata": {},
   "source": [
    "This notebook is part of a project portfolio showcasing real-world business analytics with Python."
   ]
  }
 ],
 "metadata": {},
 "nbformat": 4,
 "nbformat_minor": 5
}
